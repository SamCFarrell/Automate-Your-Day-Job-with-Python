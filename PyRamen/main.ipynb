{
 "cells": [
  {
   "cell_type": "code",
   "execution_count": 1,
   "id": "7aac9b3c-857b-41be-9630-d94bee7e6d6f",
   "metadata": {},
   "outputs": [],
   "source": [
    "#import libraries and set file path\n",
    "from pathlib import Path\n",
    "import csv"
   ]
  },
  {
   "cell_type": "code",
   "execution_count": 2,
   "id": "ea01c5e7-221a-4020-8e13-4588f78615b0",
   "metadata": {},
   "outputs": [],
   "source": [
    "# @TODO: Set file paths for menu_data.csv and sales_data.csv\n",
    "menu_filepath = Path('../Resources/menu_data.csv')\n",
    "sales_filepath = Path('../Resources/sales_data.csv')"
   ]
  },
  {
   "cell_type": "code",
   "execution_count": 3,
   "id": "a536c30e-cfce-47e9-a685-74ad74585528",
   "metadata": {},
   "outputs": [],
   "source": [
    "# @TODO: Initialize list objects to hold our menu and sales data\n",
    "menu = []\n",
    "sales = []"
   ]
  },
  {
   "cell_type": "code",
   "execution_count": 4,
   "id": "d7fd4900-3edc-4eba-b013-a4c611370f6f",
   "metadata": {},
   "outputs": [],
   "source": [
    "# @TODO: Read in the menu data into the menu list\n",
    "with open(menu_filepath, 'r') as csvfile1:\n",
    "    csvreader1 = csv.reader(csvfile1, delimiter=',')\n",
    "    csv_header1 = next(csvreader1)\n",
    "    for row in csvreader1:\n",
    "        menu.append(row)"
   ]
  },
  {
   "cell_type": "code",
   "execution_count": 5,
   "id": "8aa08c95-a0c7-4929-91bd-2c459f56b891",
   "metadata": {},
   "outputs": [],
   "source": [
    "# @TODO: Read in the sales data into the sales list\n",
    "with open(sales_filepath, 'r') as csvfile2:\n",
    "    csvreader2 = csv.reader(csvfile2, delimiter=',')\n",
    "    csv_header2 = next(csvreader2)\n",
    "    for row in csvreader2:\n",
    "        sales.append(row)"
   ]
  },
  {
   "cell_type": "code",
   "execution_count": 6,
   "id": "7141b6cb-5db1-4e9c-84d9-b0c37c6b5bb4",
   "metadata": {},
   "outputs": [],
   "source": [
    "# @TODO: Initialize dict object to hold our key-value pairs of items and metrics\n",
    "report = {}"
   ]
  },
  {
   "cell_type": "code",
   "execution_count": 7,
   "id": "54fd7bc0-a142-45fd-a538-e1a1621ef4ab",
   "metadata": {},
   "outputs": [],
   "source": [
    "# Initialize a row counter variable\n",
    "row_count = 0"
   ]
  },
  {
   "cell_type": "code",
   "execution_count": 8,
   "id": "afb2125c-8754-4235-b550-8f41b98fa79b",
   "metadata": {},
   "outputs": [],
   "source": [
    "# @TODO: Loop over every row in the sales list objecs\n",
    "for row in sales:\n",
    "    quantity = int(row[3])\n",
    "    sales_item = str(row[4])\n",
    "    if sales_item not in report.keys():\n",
    "        report[sales_item] = {\"01-count\": 0, \"02-revenue\": 0, \"03-cogs\": 0, \"04-profit\": 0}\n",
    "    for row in menu:\n",
    "        item = str(row[0])\n",
    "        price = float(row[3])\n",
    "        cost = int(row[4])\n",
    "        profit = price - cost\n",
    "        if sales_item == item:\n",
    "            report[sales_item][\"01-count\"] += quantity\n",
    "            report[sales_item][\"02-revenue\"] += price * quantity\n",
    "            report[sales_item][\"03-cogs\"] += cost * quantity\n",
    "            report[sales_item][\"04-profit\"] += profit * quantity\n",
    "            report.update()  \n",
    "    row_count += 1"
   ]
  },
  {
   "cell_type": "code",
   "execution_count": 9,
   "id": "22f29fa9-b77c-47f9-bd64-cc682fa3ed13",
   "metadata": {},
   "outputs": [],
   "source": [
    "# output text file\n",
    "output_path = 'output.txt'\n",
    "with open(output_path, \"w\") as csvout:\n",
    "    csvwriter = csv.writer(csvout, delimiter=\",\")\n",
    "    for name in report:\n",
    "        csvwriter.writerow(\n",
    "            [\n",
    "                name, \n",
    "                report[sales_item],\n",
    "            ]\n",
    "        )"
   ]
  }
 ],
 "metadata": {
  "kernelspec": {
   "display_name": "Python 3 (ipykernel)",
   "language": "python",
   "name": "python3"
  },
  "language_info": {
   "codemirror_mode": {
    "name": "ipython",
    "version": 3
   },
   "file_extension": ".py",
   "mimetype": "text/x-python",
   "name": "python",
   "nbconvert_exporter": "python",
   "pygments_lexer": "ipython3",
   "version": "3.7.13"
  }
 },
 "nbformat": 4,
 "nbformat_minor": 5
}
