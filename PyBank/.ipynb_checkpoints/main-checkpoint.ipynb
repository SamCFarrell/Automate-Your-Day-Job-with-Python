{
 "cells": [
  {
   "cell_type": "code",
   "execution_count": 3,
   "id": "6d3b6ce6-fd60-4851-88e8-939895215f23",
   "metadata": {},
   "outputs": [
    {
     "name": "stdout",
     "output_type": "stream",
     "text": [
      "Financial Analysis\n",
      "----------------------------\n",
      "Total Months: 86\n",
      "Total: 38382578\n",
      "Average Change: -2315.12\n",
      "Greatest Increase in Profits: Feb-2012 $(1926159)\n",
      "Greatest Decrease in Profits: Sep-2013 $(-2196167)\n"
     ]
    }
   ],
   "source": [
    "#import libraries and set file path\n",
    "from pathlib import Path\n",
    "import csv\n",
    "csvpath = Path('../../../NU-VIRT-FIN-PT-09-2022-U-LOLC/02-Homework/02-Python/Instructions/PyBank/Resources/budget_data.csv')\n",
    "\n",
    "#initialize lists (read below)\n",
    "pl = []\n",
    "month = []\n",
    "delta = []\n",
    "\n",
    "#open csv file as an object, pass into csv.reader()\n",
    "with open(csvpath, 'r') as csvfile:\n",
    "    csvreader = csv.reader(csvfile, delimiter=',')\n",
    "    csv_header = next(csvreader)\n",
    "    \n",
    "    #make each column into a list (month=\"Date\", pl=\"Profit/losses\")\n",
    "    for column in csvreader:\n",
    "        pl.append(int(column[1]))\n",
    "        month.append(str(column[0]))\n",
    "\n",
    "#calculate the lenght and sum of the pl list        \n",
    "month_count = len(pl)        \n",
    "total_pl = sum(pl)\n",
    "\n",
    "# calculate changes in profit/loss for each month and add to a seperate list (delta)\n",
    "for i in range(month_count-1):\n",
    "    delta.append(pl[i+1]-pl[i])\n",
    "    \n",
    "#calculate the average of the delta list\n",
    "avg_change = round(sum(delta)/len(delta), 2)\n",
    "\n",
    "#calculate the maximum/minimum values in the delta list to find the biggest increase/decrase\n",
    "biggest_increase = max(delta)\n",
    "biggest_decrease = min(delta)\n",
    "\n",
    "#find the indexes of the biggest increase and decrease\n",
    "bii = delta.index(max(delta))\n",
    "bdi = delta.index(min(delta))\n",
    "\n",
    "# find the specific months at the above index (had to add one because it wouldn't work otherwise)\n",
    "best_month = month[bii+1]\n",
    "worst_month = month[bdi+1]\n",
    "        \n",
    "#print results\n",
    "print(\"Financial Analysis\")\n",
    "print(\"----------------------------\")\n",
    "print(f\"Total Months: {month_count}\")\n",
    "print(f\"Total: {total_pl}\")\n",
    "print(f\"Average Change: {avg_change}\")\n",
    "print(f\"Greatest Increase in Profits: {best_month} $({biggest_increase})\")\n",
    "print(f\"Greatest Decrease in Profits: {worst_month} $({biggest_decrease})\")"
   ]
  },
  {
   "cell_type": "code",
   "execution_count": null,
   "id": "21657ebd-ea93-49b0-9374-64394b893bb8",
   "metadata": {},
   "outputs": [],
   "source": []
  },
  {
   "cell_type": "code",
   "execution_count": null,
   "id": "b1913591-488d-4356-82a4-86cb57a4086b",
   "metadata": {},
   "outputs": [],
   "source": []
  },
  {
   "cell_type": "code",
   "execution_count": null,
   "id": "d288a1e1-694f-4b70-9ff2-b962845fd015",
   "metadata": {},
   "outputs": [],
   "source": []
  }
 ],
 "metadata": {
  "kernelspec": {
   "display_name": "Python 3 (ipykernel)",
   "language": "python",
   "name": "python3"
  },
  "language_info": {
   "codemirror_mode": {
    "name": "ipython",
    "version": 3
   },
   "file_extension": ".py",
   "mimetype": "text/x-python",
   "name": "python",
   "nbconvert_exporter": "python",
   "pygments_lexer": "ipython3",
   "version": "3.7.13"
  }
 },
 "nbformat": 4,
 "nbformat_minor": 5
}
