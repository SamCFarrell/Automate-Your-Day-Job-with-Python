{
 "cells": [
  {
   "cell_type": "code",
   "execution_count": 1,
   "id": "6d3b6ce6-fd60-4851-88e8-939895215f23",
   "metadata": {},
   "outputs": [],
   "source": [
    "#import libraries and set file path\n",
    "from pathlib import Path\n",
    "import csv\n",
    "csvpath = Path('../Resources/budget_data.csv')"
   ]
  },
  {
   "cell_type": "code",
   "execution_count": 2,
   "id": "c7420afb-568b-42de-860f-2a11ad55cca0",
   "metadata": {},
   "outputs": [],
   "source": [
    "#initialize lists (read below)\n",
    "pl = []\n",
    "month = []\n",
    "delta = []"
   ]
  },
  {
   "cell_type": "code",
   "execution_count": 3,
   "id": "29673280-c839-4893-9b50-53c9c6c5935c",
   "metadata": {},
   "outputs": [],
   "source": [
    "#open csv file as an object, pass into csv.reader()\n",
    "with open(csvpath, 'r') as csvfile:\n",
    "    csvreader = csv.reader(csvfile, delimiter=',')\n",
    "    csv_header = next(csvreader)\n",
    "    #make each column into a list (month=\"Date\", pl=\"Profit/losses\")\n",
    "    for column in csvreader:\n",
    "        pl.append(int(column[1]))\n",
    "        month.append(str(column[0]))"
   ]
  },
  {
   "cell_type": "code",
   "execution_count": 4,
   "id": "73ca6507-37f6-45ba-8c2f-96185b3728e8",
   "metadata": {},
   "outputs": [],
   "source": [
    "#calculate the lenght and sum of the pl list        \n",
    "month_count = len(pl)        \n",
    "total_pl = sum(pl)"
   ]
  },
  {
   "cell_type": "code",
   "execution_count": 5,
   "id": "643ccaa6-fd39-4ce7-a780-2e8109fc3c3f",
   "metadata": {},
   "outputs": [],
   "source": [
    "# calculate changes in profit/loss for each month and add to a seperate list (delta)\n",
    "for i in range(month_count-1):\n",
    "    delta.append(pl[i+1]-pl[i])"
   ]
  },
  {
   "cell_type": "code",
   "execution_count": 6,
   "id": "8dc9866b-c249-4874-a0ec-203a35a75488",
   "metadata": {},
   "outputs": [],
   "source": [
    "#calculate the average of the delta list\n",
    "avg_change = round(sum(delta)/len(delta), 2)"
   ]
  },
  {
   "cell_type": "code",
   "execution_count": 7,
   "id": "cfc9675c-d82a-4d73-b6f3-69e8684dd3b0",
   "metadata": {},
   "outputs": [],
   "source": [
    "#calculate the maximum/minimum values in the delta list to find the biggest increase/decrase\n",
    "biggest_increase = max(delta)\n",
    "biggest_decrease = min(delta)"
   ]
  },
  {
   "cell_type": "code",
   "execution_count": 8,
   "id": "40666119-a8eb-430f-8015-51ad441ea2b1",
   "metadata": {},
   "outputs": [],
   "source": [
    "#find the indexes of the biggest increase and decrease\n",
    "bii = delta.index(max(delta))\n",
    "bdi = delta.index(min(delta))"
   ]
  },
  {
   "cell_type": "code",
   "execution_count": 9,
   "id": "84fbfda1-31a8-4f51-aa32-99a4d11a296e",
   "metadata": {},
   "outputs": [],
   "source": [
    "# find the specific months at the above index (had to add one because it wouldn't work otherwise)\n",
    "best_month = month[bii+1]\n",
    "worst_month = month[bdi+1]"
   ]
  },
  {
   "cell_type": "code",
   "execution_count": 10,
   "id": "fdefce2e-e71e-4481-8c84-8a6a333fcf39",
   "metadata": {},
   "outputs": [
    {
     "name": "stdout",
     "output_type": "stream",
     "text": [
      "Financial Analysis\n",
      "----------------------------\n",
      "Total Months: 86\n",
      "Total: 38382578\n",
      "Average Change: -2315.12\n",
      "Greatest Increase in Profits: Feb-2012 $(1926159)\n",
      "Greatest Decrease in Profits: Sep-2013 $(-2196167)\n"
     ]
    }
   ],
   "source": [
    "#print results\n",
    "print(\"Financial Analysis\")\n",
    "print(\"----------------------------\")\n",
    "print(f\"Total Months: {month_count}\")\n",
    "print(f\"Total: {total_pl}\")\n",
    "print(f\"Average Change: {avg_change}\")\n",
    "print(f\"Greatest Increase in Profits: {best_month} $({biggest_increase})\")\n",
    "print(f\"Greatest Decrease in Profits: {worst_month} $({biggest_decrease})\")"
   ]
  },
  {
   "cell_type": "code",
   "execution_count": 12,
   "id": "c260fd21-7d99-458b-b3d4-1dc3f3e42be7",
   "metadata": {},
   "outputs": [],
   "source": [
    "#output Text file with with the results \n",
    "output_path = 'output.txt'\n",
    "with open(output_path, 'w') as csvout:\n",
    "    csvout.write(f\"Financial Analysis\\n\")\n",
    "    csvout.write(f\"----------------------------\\n\")\n",
    "    csvout.write(f\"Total Months: {month_count}\\n\") \n",
    "    csvout.write(f\"Total: {total_pl}\\n\")\n",
    "    csvout.write(f\"Average Change: {avg_change}\\n\")\n",
    "    csvout.write(f\"Greatest Increase in Profits: {best_month} $({biggest_increase})\\n\")\n",
    "    csvout.write(f\"Greatest Decrease in Profits: {worst_month} $({biggest_decrease})\\n\")"
   ]
  }
 ],
 "metadata": {
  "kernelspec": {
   "display_name": "Python 3 (ipykernel)",
   "language": "python",
   "name": "python3"
  },
  "language_info": {
   "codemirror_mode": {
    "name": "ipython",
    "version": 3
   },
   "file_extension": ".py",
   "mimetype": "text/x-python",
   "name": "python",
   "nbconvert_exporter": "python",
   "pygments_lexer": "ipython3",
   "version": "3.7.13"
  }
 },
 "nbformat": 4,
 "nbformat_minor": 5
}
